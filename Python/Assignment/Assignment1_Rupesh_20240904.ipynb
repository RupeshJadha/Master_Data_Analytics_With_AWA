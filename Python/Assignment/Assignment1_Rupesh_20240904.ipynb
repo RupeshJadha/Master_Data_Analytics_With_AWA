{
 "cells": [
  {
   "cell_type": "raw",
   "id": "c56df65c-b980-4e64-ae2b-6abd5191bec4",
   "metadata": {},
   "source": [
    "1.Understanding Variables\n",
    "\n",
    "a. Define a variable in Python. Provide an example of how to create a variable that stores your name.\n",
    "\n",
    "ANS- variable is something in which we hold some data.\n",
    "     There are some rules to take variable we can not take number or any special charector or reserve key words variable in python also we can not use       space as well in between the variable.\n",
    "   \n",
    "   example of how to create a variable that stores your name \n",
    "            Name = \"Rupesh\"\n",
    "            ^\n",
    "     #Name is variable which is holding data as \"Rupesh\""
   ]
  },
  {
   "cell_type": "markdown",
   "id": "4bf1c7b9-e59d-4cc2-999c-ac918f9254a3",
   "metadata": {},
   "source": [
    "----"
   ]
  },
  {
   "cell_type": "markdown",
   "id": "741a93be-d1d8-4cf7-89bf-9bbb12f7af87",
   "metadata": {},
   "source": [
    "b. What is the difference between a variable and a constant? Can we have constants in Python?\n",
    "\n",
    "ANS - In variable Data hold in variable can change during execution.\n",
    "       Example. a = 10\n",
    "                a = a+2  # now a is 12\n",
    "                \n",
    "      In Constant we can not change value or data which holds in constant.\n",
    "        Example PI = 3.14 #which is constant\n",
    "\n",
    "      Python dose not have inbuilt function that holds constant.  "
   ]
  },
  {
   "cell_type": "markdown",
   "id": "a44c955d-3055-421e-a068-d8f64574e184",
   "metadata": {},
   "source": [
    "-----------------------------------------------------------------------------------------------------------------------------------"
   ]
  },
  {
   "cell_type": "raw",
   "id": "9bf5d895-5458-43e1-a0dc-d7591870dffc",
   "metadata": {},
   "source": [
    "2.Working with Different Data Types\n",
    "\n",
    "a.Create variables of the following types in Python:\n",
    "1.Integer\n",
    "2.Float\n",
    "3.String\n",
    "4.Boolean\n",
    "\n",
    "Int_Var = 10\n",
    "Float_Var = 2.5\n",
    "Strng_Var = \"Rupesh\"\n",
    "Bollen_Var = True\n"
   ]
  },
  {
   "cell_type": "markdown",
   "id": "1fa11fa9-ac02-4043-88b8-b8bf3936abc5",
   "metadata": {},
   "source": [
    "--------------------------------------------------------------------------------------------------------------------------------"
   ]
  },
  {
   "cell_type": "markdown",
   "id": "740d6bf3-1c76-4d65-b9a1-3421472c3378",
   "metadata": {},
   "source": [
    "b.Write a Python script to display the type of each variable you created.\n"
   ]
  },
  {
   "cell_type": "code",
   "execution_count": 17,
   "id": "ee9536e9-1902-4393-b4d4-346da893a1d5",
   "metadata": {},
   "outputs": [
    {
     "name": "stdout",
     "output_type": "stream",
     "text": [
      "Type of a = <class 'int'>\n",
      "Type of b = <class 'int'>\n",
      "Type of c = <class 'int'>\n",
      "Type of d = <class 'int'>\n",
      "Type of e = <class 'int'>\n",
      "Type of f = <class 'int'>\n",
      "Type of g = <class 'int'>\n",
      "Type of h = <class 'dict'>\n"
     ]
    }
   ],
   "source": [
    "a = 10        # Integer\n",
    "b = 2.5       # Float\n",
    "c = \"Rupesh\"  #String\n",
    "d = True      #Boolen\n",
    "e = [1,2,3]   #list\n",
    "f = (1,2,3)   #Tuple\n",
    "g = {1,2,3}   #set\n",
    "h = {\"a\":10, \"B\": \"rj\"}  # Dictinary\n",
    "\n",
    "print(\"Type of a =\", type(a))\n",
    "print(\"Type of b =\", type(a))\n",
    "print(\"Type of c =\", type(a))\n",
    "print(\"Type of d =\", type(a))\n",
    "print(\"Type of e =\", type(a))\n",
    "print(\"Type of f =\", type(a))\n",
    "print(\"Type of g =\", type(a))\n",
    "print(\"Type of h =\", type(h))\n"
   ]
  },
  {
   "cell_type": "markdown",
   "id": "9bce1898-4e01-4eaf-9ff0-8d16f9bafaf0",
   "metadata": {},
   "source": [
    "---------------------------------------------------------------------------"
   ]
  },
  {
   "cell_type": "markdown",
   "id": "b9739044-a015-44b4-9713-838a9bb7fc0e",
   "metadata": {},
   "source": [
    "3.Arithmetic Operators"
   ]
  },
  {
   "cell_type": "raw",
   "id": "98351302-7e6c-4c53-b4a5-224bfe59f053",
   "metadata": {},
   "source": [
    "a.Explain the following arithmetic operators with examples:\n",
    "\n",
    "1.Addition (`+`)  \n",
    "ANS - we use '+' to perform operation like addition of variables or Number\n",
    " Example - a = 2\n",
    "           b = 3\n",
    "           print(a+b)\n",
    "#output will be 5 its doing sum of two variable a & b.\n",
    "------------------------------------------------------------------------------------------------------------------------\n",
    "\n",
    "2.Subtraction (`-`)\n",
    "ANS - we use '-' to perform operation like subtraction of variables or Number\n",
    " Example - a = 10\n",
    "           b = 3\n",
    "           print(a-b)\n",
    "#output will be 7 its doing substraction of two variable a & b.\n",
    "--------------------------------------------------------------------------------------------------------------------------\n",
    "\n",
    "3.Multiplication (`*`)\n",
    "ANS - we use '*' to perform operation like multiplication of variables or Number\n",
    " Example - a = 2\n",
    "           b = 3\n",
    "           print(a*b)\n",
    "#output will be 6 its doing multiplication of two variable a & b.\n",
    "---------------------------------------------------------------------------------------------------------------------------\n",
    "\n",
    "4.Division (`/`)\n",
    "ANS - we use '/' to perform operation like division of variables or Number\n",
    " Example - a = 7\n",
    "           b = 2\n",
    "           print(a/b)\n",
    "#output will be 2.5 its doing division of two variable a & b.\n",
    "----------------------------------------------------------------------------------------------------------------------------\n",
    "\n",
    "5.Floor Division (`//`)\n",
    "ANS - If we want to preform operation like division of variables or Number but we want output in \"intger\" olny.\n",
    " Example - a = 7\n",
    "           b = 2\n",
    "           print(a*b)\n",
    "#output will be 2 its doing division of two variable a & b and then round down the output to the nearse integer.\n",
    "-----------------------------------------------------------------------------------------------------------------------------\n",
    "\n",
    "6.Modulus (`%`)\n",
    "ANS- when we do division of two numbers modulus operator gives us reminder of that division opration\n",
    " Example - a = 7\n",
    "           b = 2\n",
    "           print(a % b)\n",
    "#output will be 1  \n",
    "-------------------------------------------------------------------------------------------------------------------------------\n",
    "\n",
    "7.Exponentiation (`**`)\n",
    "ANS - when we want to calculate the power or exponention of some value then we use Exponentiation oprator\n",
    " Example - a = 2  # Base\n",
    "           b = 3  # Exponent\n",
    "           print(a ** b)\n",
    " #output will be 8"
   ]
  },
  {
   "cell_type": "markdown",
   "id": "81122e47-e3b2-460d-8b15-e75cadd92d8a",
   "metadata": {},
   "source": [
    "---"
   ]
  },
  {
   "cell_type": "markdown",
   "id": "036a1a79-ee04-466b-86fe-21aad0e500e8",
   "metadata": {},
   "source": [
    "b. Write a Python script to calculate the area of a rectangle using variables `length` and `width` with values 5 and 10, respectively. Use the multiplication operator."
   ]
  },
  {
   "cell_type": "code",
   "execution_count": 22,
   "id": "f877de99-adf5-491e-a6c8-82a6fcd623ab",
   "metadata": {},
   "outputs": [
    {
     "name": "stdout",
     "output_type": "stream",
     "text": [
      "Area =  50\n"
     ]
    }
   ],
   "source": [
    "length = 5\n",
    "width = 10\n",
    "print(\"Area = \", Area)"
   ]
  },
  {
   "cell_type": "markdown",
   "id": "5a3ed37a-601d-4d4d-b301-49774d7abf0b",
   "metadata": {},
   "source": [
    "-------------"
   ]
  },
  {
   "cell_type": "markdown",
   "id": "3de22a62-2a04-43c9-a1a7-82977288c67e",
   "metadata": {},
   "source": [
    "4.Comparison and Logical Operators"
   ]
  },
  {
   "cell_type": "raw",
   "id": "f95b1b4a-d543-4ed2-a7a7-b81a8ee29f4e",
   "metadata": {},
   "source": [
    "a.Explain the following comparison operators with examples:\n",
    "\n",
    "1.Equal to (`==`)\n",
    "ANS - We use \"==\" to compare to values are equal. \n",
    "     it return a Boolean value (True or False) based on the result. If values are equal it will return True or False outherwiase.\n",
    "Example -  a = 5           |  Example - a = 5 \n",
    "           b = 5           |            b = 3\n",
    "           print(a == b)   |            print(a == b)\n",
    "# Outputwill be True       |   # Outputwill be False\n",
    "---------------------------------------------------------------------------------------------------------------------------------------------\n",
    "\n",
    "2.Not equal to (`!=`)\n",
    "ANS - we use \"!=\" to compare if two values are not equal.\n",
    "      it return a Boolean value (True or False) based on the result. If values are not equal it will return True or False outherwiase.\n",
    " Example - a = 5           |  Example - a = 5 \n",
    "           b = 3           |            b = 5\n",
    "           print(a != b)   |            print(a != b)\n",
    "# Outputwill be True       |   # Outputwill be False\n",
    "----------------------------------------------------------------------------------------------------------------------------------------------\n",
    "\n",
    "3.Greater than (`>`)\n",
    "ANS - We use \">\" to check value on the left is greater than the value on the right.\n",
    "      it return a Boolean value (True or False) based on the result. If value is greater it will return True or False outherwiase.\n",
    "Example -  a = 5           |  Example - a = 3 \n",
    "           b = 3           |            b = 5\n",
    "           print(a > b)    |            print(a > b)\n",
    "# Outputwill be True       |   # Outputwill be False\n",
    "-----------------------------------------------------------------------------------------------------------------------------------------------\n",
    "\n",
    "4.Less than (`<`)\n",
    "ANS - We use \"<\" to check value on the left is less than the value on the right.\n",
    "      it return a Boolean value (True or False) based on the result. If value is less it will return True or False outherwiase.\n",
    "Example -  a = 3           |  Example - a = 10\n",
    "           b = 5           |            b = 5\n",
    "           print(a < b)    |            print(a < b)\n",
    "# Outputwill be True       |   # Outputwill be False\n",
    "------------------------------------------------------------------------------------------------------------------------------------------------\n",
    "\n",
    "5.Greater than or equal to (`>=`)\n",
    "ANS - We use \">=\" to checks if the value on the left is greater than or equal to the value on the right.\n",
    "      it return a Boolean value (True or False) based on the result. If value is greater or equal it will return True or False outherwiase.\n",
    "Example -  a = 5           |  Example - a = 5\n",
    "           b = 2           |            b = 10\n",
    "           print(a >= b)   |            print(a >= b)\n",
    "# Outputwill be True       |   # Outputwill be False\n",
    "------------------------------------------------------------------------------------------------------------------------------------------------\n",
    "\n",
    "6.Less than or equal to (`<=`)\n",
    "ANS - We use \">=\" to checks if the value on the left is less than or equal to the value on the right.\n",
    "      it return a Boolean value (True or False) based on the result. If value is less or equal it will return True or False outherwiase.\n",
    "Example -  a = 2           |  Example - a = 5\n",
    "           b = 5           |            b = 1\n",
    "           print(a <= b)   |            print(a <= b)\n",
    "# Outputwill be True       |   # Outputwill be False"
   ]
  },
  {
   "cell_type": "markdown",
   "id": "c8eaf869-06b2-4136-aafa-e4c9cff2b1be",
   "metadata": {},
   "source": [
    "-------------------"
   ]
  },
  {
   "cell_type": "markdown",
   "id": "6607228b-c5f9-4ee9-b303-6b7c84bc82d2",
   "metadata": {},
   "source": [
    "b.Using logical operators (`and`, `or`, `not`), write a Python script that checks if a number is positive and even."
   ]
  },
  {
   "cell_type": "code",
   "execution_count": 47,
   "id": "9039b9cc-e87a-4f33-a15e-207f733296aa",
   "metadata": {},
   "outputs": [
    {
     "name": "stdin",
     "output_type": "stream",
     "text": [
      "Write a number: 10\n"
     ]
    },
    {
     "name": "stdout",
     "output_type": "stream",
     "text": [
      "Number is possitive & even\n"
     ]
    }
   ],
   "source": [
    "num = int(input(\"Write a number:\"))\n",
    "if num > 0 and num % 2 == 0 :\n",
    "   print(\"Number is possitive & even\")\n",
    "elif num > 0 and num % 2 != 0:\n",
    "    print(\"Number is possitive & odd \")\n",
    "elif num < 0:\n",
    "    print(\"number is negetive\")\n",
    "else:\n",
    "    print(\"Number is zero\")"
   ]
  },
  {
   "cell_type": "markdown",
   "id": "6196610f-c784-4994-b794-fe910d47c56f",
   "metadata": {},
   "source": [
    "-----------------"
   ]
  },
  {
   "cell_type": "markdown",
   "id": "63ee8b13-de82-4ef1-84dc-2f6c0d1644ed",
   "metadata": {},
   "source": [
    "5.Type Casting in Python"
   ]
  },
  {
   "cell_type": "raw",
   "id": "0c521d79-969a-4542-b838-9f381c678a35",
   "metadata": {},
   "source": [
    "a.What is type casting? Explain the difference between implicit and explicit type casting with examples.\n",
    "ANS - Conversion of one data type to anothers data type is called type casting\n",
    "\n",
    "      In implicit type casting pythone automaticaly convert one data type to another data type.\n",
    "  Example - a = 10          # Integer data type\n",
    "            b = 2.5         # Boolean data type\n",
    "            print(a + b)\n",
    " #output will be 12.5        # Python automaticaly converts it into boolean data type.  \n",
    "\n",
    "       In Eplicit type casting programmer coverts one data type to anothe data type by using built in function\n",
    "  Example - a = 5             # integer data type\n",
    "            b = \"Rupesh\"      # String data type\n",
    "            print(str(a) + b) # we have convert Integer data type 5 into string data type\n",
    "  #output will be 5Rupesh"
   ]
  },
  {
   "cell_type": "markdown",
   "id": "87b25067-9a6a-442e-bc9b-1572bf91831a",
   "metadata": {},
   "source": [
    "-----"
   ]
  },
  {
   "cell_type": "markdown",
   "id": "91435e93-5a6b-48f2-814f-3e870f410711",
   "metadata": {},
   "source": [
    "b.Write a Python script that:\n",
    "\n"
   ]
  },
  {
   "cell_type": "markdown",
   "id": "1c0404b1-8401-45d0-a9c2-76a230885cad",
   "metadata": {},
   "source": [
    "1.Converts a float to an integer."
   ]
  },
  {
   "cell_type": "code",
   "execution_count": 23,
   "id": "78a43d40-0141-4b4c-9054-0a6d64a141e7",
   "metadata": {},
   "outputs": [
    {
     "name": "stdout",
     "output_type": "stream",
     "text": [
      "sum =  22\n"
     ]
    }
   ],
   "source": [
    "a = 12.5  # Data type float\n",
    "b = 10    # Data type integer\n",
    "print(\"sum = \", int(a) + b)  "
   ]
  },
  {
   "cell_type": "markdown",
   "id": "d4f0c801-6f73-4e6b-8c87-ebf5f4a0b6af",
   "metadata": {},
   "source": [
    "-----------"
   ]
  },
  {
   "cell_type": "markdown",
   "id": "9c01d061-e9da-4264-ae50-3333b2de4183",
   "metadata": {},
   "source": [
    "2.Converts an integer to a string."
   ]
  },
  {
   "cell_type": "code",
   "execution_count": 24,
   "id": "2a8c9ac7-0218-4990-9de5-5a130e3b1a99",
   "metadata": {},
   "outputs": [
    {
     "name": "stdout",
     "output_type": "stream",
     "text": [
      "10Rupesh\n"
     ]
    }
   ],
   "source": [
    "a = 10             # Data type integer\n",
    "b = \"Rupesh\"       # Data type string\n",
    "print(str(a) + b)"
   ]
  },
  {
   "cell_type": "markdown",
   "id": "3926b7e6-2549-4f0e-bd4f-3e6904d41f31",
   "metadata": {},
   "source": [
    "-----"
   ]
  },
  {
   "cell_type": "markdown",
   "id": "5f740e0e-f6a6-49e7-9d63-ee52949af980",
   "metadata": {},
   "source": [
    "3.Converts a string to a float."
   ]
  },
  {
   "cell_type": "code",
   "execution_count": 31,
   "id": "a20ccdb8-d75f-4f07-ba7e-3b49703bed0b",
   "metadata": {},
   "outputs": [
    {
     "name": "stdout",
     "output_type": "stream",
     "text": [
      "14.0\n"
     ]
    }
   ],
   "source": [
    "a = 10                 # Data type Integer\n",
    "b = \"4\"                # Data type string\n",
    "print(a + float(b))    "
   ]
  },
  {
   "cell_type": "markdown",
   "id": "67b07fc9-bd7e-4cb3-a9ca-be578e2d3b1f",
   "metadata": {},
   "source": [
    "-------------"
   ]
  },
  {
   "cell_type": "markdown",
   "id": "ca4e50f4-220b-41bc-84fa-a0e3022a8c8f",
   "metadata": {},
   "source": [
    "6.Practical Exercise: Mini Calculator"
   ]
  },
  {
   "cell_type": "markdown",
   "id": "d5f2d6ee-a8a5-41ac-b3c4-5a16048d259c",
   "metadata": {},
   "source": [
    "Write a Python script that asks the user to input two numbers and then:"
   ]
  },
  {
   "cell_type": "raw",
   "id": "5fee8e50-3744-4cc3-b74e-61c9af53bb22",
   "metadata": {},
   "source": [
    "1.Adds the two numbers and prints the result.\n",
    "2.Subtracts the second number from the first and prints the result.\n",
    "3.Multiplies the two numbers and prints the result.\n",
    "4.Divides the first number by the second and prints the result (handle division by zero).\n",
    "5.Converts the sum of the numbers to a string and prints the type of the result."
   ]
  },
  {
   "cell_type": "code",
   "execution_count": 51,
   "id": "a2ed12dc-bf0d-418f-8561-2d0869cdb5f7",
   "metadata": {},
   "outputs": [
    {
     "name": "stdin",
     "output_type": "stream",
     "text": [
      "Type the 1st number 10\n",
      "Type the 2nd number 5\n"
     ]
    },
    {
     "name": "stdout",
     "output_type": "stream",
     "text": [
      "sum of two number: 15\n",
      "Substract 1st number from 2nd number: -5\n",
      "multipication of 1st & 2nd number: 50\n",
      "Division of 1st number by 2nd number: 2.0\n",
      "sum of two number: 15\n",
      "sum of two number: <class 'str'>\n"
     ]
    }
   ],
   "source": [
    "num1 = int(input(\"Type the 1st number\"))\n",
    "num2 = int(input(\"Type the 2nd number\"))\n",
    "\n",
    "#Adds the two numbers and prints the result.\n",
    "print(\"sum of two number:\", num1 +num2)\n",
    "\n",
    "#Subtracts the second number from the first and prints the result\n",
    "print(\"Substract 1st number from 2nd number:\" , num2 - num1)\n",
    "\n",
    "#Multiplies the two numbers and prints the result.\n",
    "print(\"multipication of 1st & 2nd number:\", num1 * num2)\n",
    "\n",
    "#Divides the first number by the second and prints the result (handle division by zero).\n",
    "if num2 != 0:\n",
    "    print(\"Division of 1st number by 2nd number:\", num1 / num2)\n",
    "else:\n",
    "    print(\"division by Zero is not allowed\")\n",
    "\n",
    "#Converts the sum of the numbers to a string and prints the type of the result.\n",
    "print(\"sum of two number:\",( num1 + num2))\n",
    "print(\"sum of two number:\",type(str( num1 + num2)))"
   ]
  }
 ],
 "metadata": {
  "kernelspec": {
   "display_name": "Python 3 (ipykernel)",
   "language": "python",
   "name": "python3"
  },
  "language_info": {
   "codemirror_mode": {
    "name": "ipython",
    "version": 3
   },
   "file_extension": ".py",
   "mimetype": "text/x-python",
   "name": "python",
   "nbconvert_exporter": "python",
   "pygments_lexer": "ipython3",
   "version": "3.12.4"
  }
 },
 "nbformat": 4,
 "nbformat_minor": 5
}
