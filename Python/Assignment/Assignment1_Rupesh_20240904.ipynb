{
  "nbformat": 4,
  "nbformat_minor": 0,
  "metadata": {
    "colab": {
      "provenance": []
    },
    "kernelspec": {
      "name": "python3",
      "display_name": "Python 3"
    },
    "language_info": {
      "name": "python"
    }
  },
  "cells": [
    {
      "cell_type": "markdown",
      "source": [
        "# **Assignment - 1 : Variables, Operators and Type Casting**\n",
        "# **Name: Rupesh Jadhav Date:04/09/2024**\n"
      ],
      "metadata": {
        "id": "XIgSz8-IVOkg"
      }
    },
    {
      "cell_type": "markdown",
      "source": [
        "# **1.Understanding Variables**\n",
        "\n",
        "**a. Define a variable in Python. Provide an example of how to create a variable that stores your name.**\n",
        "\n",
        "ANS-\n",
        "* variable is something in which we hold some data.\n",
        "* There are some rules to take variable we can not take number or any special\n",
        " charector or reserve key words variable in python.\n",
        "* Also we can not use space as well in between the variable.\n",
        "\n",
        "Example\n",
        "Name = \"Rupesh\" ^ #Name is variable which is holding data as \"Rupesh\"\n",
        "\n",
        "\n",
        "\n",
        "---\n",
        "\n",
        "\n",
        "**b. What is the difference between a variable and a constant? Can we have constants in Python?**\n",
        "\n",
        "ANS -\n",
        "\n",
        "In variable Data hold in variable can change during execution.\n",
        "Example. a = 10 a = a+2 # now a is 12\n",
        "\n",
        "In Constant we can not change value or data which holds in constant.\n",
        "Example PI = 3.14 #which is constant\n",
        "\n",
        "Python dose not have inbuilt function that holds constant.\n",
        "\n",
        "\n",
        "---\n",
        "\n"
      ],
      "metadata": {
        "id": "sCOX0rRIDhxB"
      }
    },
    {
      "cell_type": "markdown",
      "source": [
        "# **2.Working with Different Data Types**\n",
        "\n",
        "\n"
      ],
      "metadata": {
        "id": "XTULh-XpGzSC"
      }
    },
    {
      "cell_type": "markdown",
      "source": [
        "**a.Create variables of the following types in Python:**\n",
        "\n",
        "1.Integer,\n",
        "\n",
        "2.Float,\n",
        "\n",
        "3.String,\n",
        "\n",
        "4.Boolean,\n",
        "\n",
        "\n",
        "\n",
        "\n"
      ],
      "metadata": {
        "id": "k0Oi--pJHQAw"
      }
    },
    {
      "cell_type": "markdown",
      "source": [
        "ANS-\n",
        "\n",
        "Int_Var = 10\n",
        "\n",
        "Float_Var = 2.5\n",
        "\n",
        "Strng_Var = \"Rupesh\"\n",
        "\n",
        "Bollen_Var = True\n",
        "\n",
        "\n",
        "---\n",
        "\n"
      ],
      "metadata": {
        "id": "FznsOTQ4JhV-"
      }
    },
    {
      "cell_type": "markdown",
      "source": [
        "**b.Write a Python script to display the type of each variable you created.**"
      ],
      "metadata": {
        "id": "NQqpkYGjJ2_H"
      }
    },
    {
      "cell_type": "code",
      "source": [
        "a = 10        # Integer\n",
        "b = 2.5       # Float\n",
        "c = \"Rupesh\"  #String\n",
        "d = True      #Boolen\n",
        "e = [1,2,3]   #list\n",
        "f = (1,2,3)   #Tuple\n",
        "g = {1,2,3}   #set\n",
        "h = {\"a\":10, \"B\": \"rj\"}  # Dictinary\n",
        "\n",
        "print(\"Type of a =\", type(a))\n",
        "print(\"Type of b =\", type(a))\n",
        "print(\"Type of c =\", type(a))\n",
        "print(\"Type of d =\", type(a))\n",
        "print(\"Type of e =\", type(a))\n",
        "print(\"Type of f =\", type(a))\n",
        "print(\"Type of g =\", type(a))\n",
        "print(\"Type of h =\", type(h))\n"
      ],
      "metadata": {
        "colab": {
          "base_uri": "https://localhost:8080/"
        },
        "id": "qfFBzbi4J_Dt",
        "outputId": "1706ead1-1853-44ab-ade7-4932072fd9cd"
      },
      "execution_count": 1,
      "outputs": [
        {
          "output_type": "stream",
          "name": "stdout",
          "text": [
            "Type of a = <class 'int'>\n",
            "Type of b = <class 'int'>\n",
            "Type of c = <class 'int'>\n",
            "Type of d = <class 'int'>\n",
            "Type of e = <class 'int'>\n",
            "Type of f = <class 'int'>\n",
            "Type of g = <class 'int'>\n",
            "Type of h = <class 'dict'>\n"
          ]
        }
      ]
    },
    {
      "cell_type": "markdown",
      "source": [
        "# **3.Arithmetic Operators**\n",
        "**a.Explain the following arithmetic operators with examples:**\n",
        "\n",
        "**1.Addition (`+`)  **\n",
        "\n",
        "ANS - we use '+' to perform operation like addition of variables or Number\n",
        "\n",
        "  Example -\n",
        "  \n",
        "             a = 2\n",
        "             b = 3\n",
        "             print(a+b)\n",
        "output will be 5 its doing sum of two variable a & b.\n",
        "\n",
        "\n",
        "---\n",
        "\n",
        "\n",
        "\n",
        "**2.Subtraction (`-`)**\n",
        "\n",
        "ANS - we use '-' to perform operation like subtraction of variables or Number\n",
        " Example -\n",
        "            \n",
        "            a = 10\n",
        "            b = 3\n",
        "            print(a-b)\n",
        "output will be 7 its doing substraction of two variable a & b.\n",
        "\n",
        "---\n",
        "\n",
        "\n",
        "**3.Multiplication (`*`)**\n",
        "\n",
        "ANS - we use '*' to perform operation like multiplication of variables or Number\n",
        " Example -\n",
        "           \n",
        "           a = 2\n",
        "           b = 3\n",
        "           print(a*b)\n",
        "output will be 6 its doing multiplication of two variable a & b.\n",
        "\n",
        "\n",
        "---\n",
        "\n",
        "\n",
        "\n",
        "**4.Division (`/`)**\n",
        "\n",
        "ANS - we use '/' to perform operation like division of variables or Number\n",
        " Example -\n",
        "          \n",
        "           a = 7\n",
        "           b = 2\n",
        "           print(a/b)\n",
        "output will be 2.5 its doing division of two variable a & b.\n",
        "\n",
        "\n",
        "---\n",
        "\n",
        "\n",
        "\n",
        "**5.Floor Division (`//`)**\n",
        "\n",
        "ANS - If we want to preform operation like division of variables or Number but we want output in \"intger\" olny.\n",
        " Example -\n",
        "           \n",
        "           a = 7\n",
        "           b = 2\n",
        "           print(a*b)\n",
        "output will be 2 its doing division of two variable a & b and then round down the output to the nearse integer.\n",
        "\n",
        "\n",
        "---\n",
        "\n",
        "\n",
        "\n",
        "**6.Modulus (`%`)**\n",
        "\n",
        "ANS- when we do division of two numbers modulus operator gives us reminder of that division opration\n",
        " Example -\n",
        "\n",
        "           a = 7\n",
        "           b = 2\n",
        "           print(a % b)\n",
        "output will be 1  \n",
        "\n",
        "\n",
        "---\n",
        "\n",
        "\n",
        "\n",
        "**7.Exponentiation (\"**\")**\n",
        "\n",
        "ANS - when we want to calculate the power or exponention of some value then we use Exponentiation oprator\n",
        "\n",
        " Example -\n",
        "           \n",
        "           a = 2  # Base\n",
        "           b = 3  # Exponent\n",
        "           print(a ** b)\n",
        " output will be 8\n",
        "\n",
        "\n",
        "---\n",
        "\n"
      ],
      "metadata": {
        "id": "IVWvexaiKVy_"
      }
    },
    {
      "cell_type": "markdown",
      "source": [
        "**b. Write a Python script to calculate the area of a rectangle using variables length and width with values 5 and 10, respectively. Use the multiplication operator.**\n",
        "\n"
      ],
      "metadata": {
        "id": "_0VjXgcpNzBf"
      }
    },
    {
      "cell_type": "code",
      "source": [
        "length = 5\n",
        "width = 10\n",
        "print(\"Area = \", length * width)"
      ],
      "metadata": {
        "colab": {
          "base_uri": "https://localhost:8080/"
        },
        "id": "IvDzunycMs0K",
        "outputId": "7a87cc06-9055-4993-febb-7dd0f8017dc8"
      },
      "execution_count": 3,
      "outputs": [
        {
          "output_type": "stream",
          "name": "stdout",
          "text": [
            "Area =  50\n"
          ]
        }
      ]
    },
    {
      "cell_type": "markdown",
      "source": [
        "# 4.Comparison and Logical Operators"
      ],
      "metadata": {
        "id": "9BeqXH77Onuk"
      }
    },
    {
      "cell_type": "markdown",
      "source": [
        "**a.Explain the following comparison operators with examples:**\n",
        "\n",
        "**1.Equal to (`==`)**\n",
        "\n",
        "ANS - We use \"==\" to compare to values are equal.\n",
        "\n",
        "it return a Boolean value (True or False) based on the result. If values are equal it will return True or False outherwiase.\n",
        "\n",
        "Example -  \n",
        "           \n",
        "           a = 5           |            a = 5\n",
        "           b = 5           |            b = 3\n",
        "           print(a == b)   |            print(a == b)\n",
        "Outputwill be True         |    Outputwill be False\n",
        "\n",
        "\n",
        "---\n",
        "\n",
        "\n",
        "\n",
        "**2.Not equal to (`!=`)**\n",
        "\n",
        "ANS - we use \"!=\" to compare if two values are not equal.\n",
        "      \n",
        " it return a Boolean value (True or False) based on the result. If values are not equal it will return True or False outherwiase.\n",
        "\n",
        " Example -\n",
        "\n",
        "           a = 5           |            a = 5\n",
        "           b = 3           |            b = 5\n",
        "           print(a != b)   |            print(a != b)\n",
        " Outputwill be True        |     Outputwill be False\n",
        "\n",
        "\n",
        "---\n",
        "\n",
        "\n",
        "\n",
        "**3.Greater than (`>`)**\n",
        "\n",
        "ANS - We use \">\" to check value on the left is greater than the value on the right.\n",
        "      \n",
        "it return a Boolean value (True or False) based on the result. If value is greater it will return True or False outherwiase.\n",
        "\n",
        "Example\n",
        "       \n",
        "           a = 5           |            a = 3\n",
        "           b = 3           |            b = 5\n",
        "           print(a > b)    |            print(a > b)\n",
        "  Outputwill be True       |     Outputwill be False\n",
        "\n",
        "\n",
        "---\n",
        "\n",
        "\n",
        "\n",
        "**4.Less than (`<`)**\n",
        "\n",
        "ANS - We use \"<\" to check value on the left is less than the value on the right.\n",
        "      \n",
        "it return a Boolean value (True or False) based on the result. If value is less it will return True or False outherwiase.\n",
        "\n",
        "Example  \n",
        "         \n",
        "           a = 3           |            a = 10\n",
        "           b = 5           |            b = 5\n",
        "           print(a < b)    |            print(a < b)\n",
        "  Outputwill be True       |     Outputwill be False\n",
        "\n",
        "\n",
        "---\n",
        "\n",
        "\n",
        "\n",
        "**5.Greater than or equal to (`>=`)**\n",
        "\n",
        "ANS - We use \">=\" to checks if the value on the left is greater than or equal to the value on the right.\n",
        "\n",
        "it return a Boolean value (True or False) based on the result. If value is greater or equal it will return True or False outherwiase.\n",
        "\n",
        "Example -  \n",
        "\n",
        "           a = 5           |            a = 5\n",
        "           b = 2           |            b = 10\n",
        "           print(a >= b)   |            print(a >= b)\n",
        "  Outputwill be True       |     Outputwill be False\n",
        "\n",
        "\n",
        "---\n",
        "\n",
        "\n",
        "\n",
        "**6.Less than or equal to (`<=`)**\n",
        "\n",
        "ANS - We use \">=\" to checks if the value on the left is less than or equal to the value on the right.\n",
        "      \n",
        "it return a Boolean value (True or False) based on the result. If value is less or equal it will return True or False outherwiase.\n",
        "\n",
        "Example  \n",
        "  \n",
        "           a = 2           |  Example - a = 5\n",
        "           b = 5           |            b = 1\n",
        "           print(a <= b)   |            print(a <= b)\n",
        " O utputwill be True       |     Outputwill be False\n",
        "\n",
        "\n",
        "---\n",
        "\n"
      ],
      "metadata": {
        "id": "l4fb2EQDOtLe"
      }
    },
    {
      "cell_type": "markdown",
      "source": [
        "**b.Using logical operators (and, or, not), write a Python script that checks if a number is positive and even.**"
      ],
      "metadata": {
        "id": "kIUDvd0GQrM0"
      }
    },
    {
      "cell_type": "code",
      "source": [
        "num = int(input(\"Write a number:\"))\n",
        "if num > 0 and num % 2 == 0 :\n",
        "   print(\"Number is possitive & even\")\n",
        "elif num > 0 and num % 2 != 0:\n",
        "    print(\"Number is possitive & odd \")\n",
        "elif num < 0:\n",
        "    print(\"number is negetive\")\n",
        "else:\n",
        "    print(\"Number is zero\")"
      ],
      "metadata": {
        "colab": {
          "base_uri": "https://localhost:8080/"
        },
        "id": "-5I9gaQBRRXv",
        "outputId": "9c3573c9-893e-4a46-8702-b3b7dcf6d41d"
      },
      "execution_count": 4,
      "outputs": [
        {
          "output_type": "stream",
          "name": "stdout",
          "text": [
            "Write a number:10\n",
            "Number is possitive & even\n"
          ]
        }
      ]
    },
    {
      "cell_type": "markdown",
      "source": [
        "\n",
        "\n",
        "---\n",
        "# 5.Type Casting in Python\n",
        "\n",
        "**a. What is type casting? Explain the difference between implicit and explicit type casting with examples.**\n",
        "\n",
        "ANS - Conversion of one data type to anothers data type is called type casting\n",
        "\n",
        "* In implicit type casting pythone automaticaly convert one data type to another data type.\n",
        "\n",
        "  Example  \n",
        "  \n",
        "            a = 10          # Integer data type\n",
        "            b = 2.5         # Boolean data type\n",
        "            print(a + b)\n",
        "  output will be 12.5        # Python automaticaly converts it into boolean data type.  \n",
        "\n",
        "* In Eplicit type casting programmer coverts one data type to anothe data type by using built in function\n",
        "  \n",
        "  Example -\n",
        "  \n",
        "            a = 5             # integer data type\n",
        "            b = \"Rupesh\"      # String data type\n",
        "            print(str(a) + b) # we have convert Integer data type 5 into string data type\n",
        "  output will be 5Rupesh\n",
        "\n",
        "\n",
        "---\n",
        "\n"
      ],
      "metadata": {
        "id": "-3qxqBrgRcEt"
      }
    },
    {
      "cell_type": "markdown",
      "source": [
        "**b.Write a Python script that:**\n",
        "\n",
        "**1.Converts a float to an integer.**\n"
      ],
      "metadata": {
        "id": "HwZvYhMeSNOY"
      }
    },
    {
      "cell_type": "code",
      "source": [
        "a = 12.5  # Data type float\n",
        "b = 10    # Data type integer\n",
        "print(\"sum = \", int(a) + b) # we have convert float data type 12.5 into integer data type\n",
        "print(type(int(a) + b))  # output will be integer"
      ],
      "metadata": {
        "colab": {
          "base_uri": "https://localhost:8080/"
        },
        "id": "iULHEV2jRUOu",
        "outputId": "38abe5ff-9492-4c0e-de6e-04b312dc25a3"
      },
      "execution_count": 9,
      "outputs": [
        {
          "output_type": "stream",
          "name": "stdout",
          "text": [
            "sum =  22\n",
            "<class 'int'>\n"
          ]
        }
      ]
    },
    {
      "cell_type": "markdown",
      "source": [
        "\n",
        "\n",
        "---\n",
        "2.Converts an integer to a string.\n"
      ],
      "metadata": {
        "id": "8NbT03lcSgcA"
      }
    },
    {
      "cell_type": "code",
      "source": [
        "a = 10             # Data type integer\n",
        "b = \"Rupesh\"       # Data type string\n",
        "print(str(a) + b)  # we have convert Integer data type 10 into string data type\n",
        "print(type(str(a) + b))  # output will be string"
      ],
      "metadata": {
        "colab": {
          "base_uri": "https://localhost:8080/"
        },
        "id": "H_USB3EoStSN",
        "outputId": "dc1b2867-89d6-4047-cf98-b52f96098ff8"
      },
      "execution_count": 10,
      "outputs": [
        {
          "output_type": "stream",
          "name": "stdout",
          "text": [
            "10Rupesh\n",
            "<class 'str'>\n"
          ]
        }
      ]
    },
    {
      "cell_type": "markdown",
      "source": [
        "**3.Converts a string to a float.**"
      ],
      "metadata": {
        "id": "o2VNa_6YT36L"
      }
    },
    {
      "cell_type": "code",
      "source": [
        "a = 10                # Data type integer\n",
        "b = \"4\"                # Data type string\n",
        "print(a + float(b))    # we have convert string data type 4 into float data type\n",
        "print(type(a + float(b)))  # output will be float"
      ],
      "metadata": {
        "colab": {
          "base_uri": "https://localhost:8080/"
        },
        "id": "7NKzS_VgS-f3",
        "outputId": "5e4d8ae1-8253-46b8-d956-3e3462439cd0"
      },
      "execution_count": 13,
      "outputs": [
        {
          "output_type": "stream",
          "name": "stdout",
          "text": [
            "14.0\n",
            "<class 'float'>\n"
          ]
        }
      ]
    },
    {
      "cell_type": "markdown",
      "source": [
        "\n",
        "\n",
        "---\n",
        "# **6.Practical Exercise: Mini Calculator**\n",
        "\n",
        "Write a Python script that asks the user to input two numbers and then:\n",
        "\n",
        "1.Adds the two numbers and prints the result.\n",
        "\n",
        "2.Subtracts the second number from the first and prints the result.\n",
        "\n",
        "3.Multiplies the two numbers and prints the result.\n",
        "\n",
        "4.Divides the first number by the second and prints the result (handle division by zero).\n",
        "\n",
        "5.Converts the sum of the numbers to a string and prints the type of the result.\n"
      ],
      "metadata": {
        "id": "kwpvkbQFUdDB"
      }
    },
    {
      "cell_type": "code",
      "source": [
        "num1 = int(input(\"Type the 1st number\"))\n",
        "num2 = int(input(\"Type the 2nd number\"))\n",
        "\n",
        "#Adds the two numbers and prints the result.\n",
        "print(\"sum of two number:\", num1 +num2)\n",
        "\n",
        "#Subtracts the second number from the first and prints the result\n",
        "print(\"Substract 1st number from 2nd number:\" , num2 - num1)\n",
        "\n",
        "#Multiplies the two numbers and prints the result.\n",
        "print(\"multipication of 1st & 2nd number:\", num1 * num2)\n",
        "\n",
        "#Divides the first number by the second and prints the result (handle division by zero).\n",
        "if num2 != 0:\n",
        "    print(\"Division of 1st number by 2nd number:\", num1 / num2)\n",
        "else:\n",
        "    print(\"division by Zero is not allowed\")\n",
        "\n",
        "#Converts the sum of the numbers to a string and prints the type of the result.\n",
        "print(\"sum of two number:\",( num1 + num2))\n",
        "print(\"sum of two number:\",type(str( num1 + num2)))"
      ],
      "metadata": {
        "colab": {
          "base_uri": "https://localhost:8080/"
        },
        "id": "oxPqC4cxUCoZ",
        "outputId": "b71fdbea-1bf9-4522-eafb-7af4af7226a3"
      },
      "execution_count": 14,
      "outputs": [
        {
          "output_type": "stream",
          "name": "stdout",
          "text": [
            "Type the 1st number10\n",
            "Type the 2nd number5\n",
            "sum of two number: 15\n",
            "Substract 1st number from 2nd number: -5\n",
            "multipication of 1st & 2nd number: 50\n",
            "Division of 1st number by 2nd number: 2.0\n",
            "sum of two number: 15\n",
            "sum of two number: <class 'str'>\n"
          ]
        }
      ]
    }
  ]
}