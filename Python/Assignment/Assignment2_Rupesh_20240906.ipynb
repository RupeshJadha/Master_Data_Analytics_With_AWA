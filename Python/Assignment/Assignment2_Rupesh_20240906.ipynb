{
  "nbformat": 4,
  "nbformat_minor": 0,
  "metadata": {
    "colab": {
      "provenance": []
    },
    "kernelspec": {
      "name": "python3",
      "display_name": "Python 3"
    },
    "language_info": {
      "name": "python"
    }
  },
  "cells": [
    {
      "cell_type": "markdown",
      "source": [
        "# **Assignment 2 : Slicing**\n",
        "\n",
        "# **Name: Rupesh Jadhav  Date:06/09/2024**\n",
        "\n",
        "\n",
        "\n",
        "---\n",
        "\n",
        "\n",
        "\n",
        "# **Part 1: Basic Slicing**\n",
        "\n",
        "**1.Introduction to Slicing:**\n",
        "\n",
        "**a.Given a string s = \"Hello, World!\", slice and print the following:**\n",
        "\n",
        "i.The entire string.\n",
        "\n",
        "ii.The first 5 characters.\n",
        "\n",
        "iii.The last 5 characters.\n",
        "\n",
        "iv.The string excludes the first and last characters.\n",
        "\n",
        "v.Every second character in the string."
      ],
      "metadata": {
        "id": "wrTwFSreo2AM"
      }
    },
    {
      "cell_type": "code",
      "source": [
        "s = \"Hello, World!\"\n",
        "print(s)\n",
        "\n",
        "print(s[:5])\n",
        "\n",
        "print(s[-5:])\n",
        "\n",
        "print(s[1:-1])\n",
        "\n",
        "print(s[::2])"
      ],
      "metadata": {
        "colab": {
          "base_uri": "https://localhost:8080/"
        },
        "id": "_cO0KwBQqejS",
        "outputId": "2a49cff8-000e-4f95-e766-b766cbeded7c"
      },
      "execution_count": 2,
      "outputs": [
        {
          "output_type": "stream",
          "name": "stdout",
          "text": [
            "Hello, World!\n",
            "Hello\n",
            "orld!\n",
            "ello, World\n",
            "Hlo ol!\n"
          ]
        }
      ]
    },
    {
      "cell_type": "markdown",
      "source": [
        "\n",
        "\n",
        "---\n",
        "\n",
        "\n",
        "# **2.Slicing with Negative Indices:**\n",
        "\n",
        "**a.Use negative indices to slice and print the following from the string s:**\n",
        "\n",
        "1.The last 3 characters.\n",
        "\n",
        "2.All characters except the last 2.\n",
        "\n",
        "3.The string reversed."
      ],
      "metadata": {
        "id": "qlUVoQfJskLd"
      }
    },
    {
      "cell_type": "code",
      "source": [
        "print(s[-3:])\n",
        "\n",
        "print(s[:-2])\n",
        "\n",
        "print(s[::-1])"
      ],
      "metadata": {
        "colab": {
          "base_uri": "https://localhost:8080/"
        },
        "id": "3QSjAshKrLau",
        "outputId": "9cbb48a4-2eb9-4bc8-98c4-0cb07e5c9697"
      },
      "execution_count": 3,
      "outputs": [
        {
          "output_type": "stream",
          "name": "stdout",
          "text": [
            "ld!\n",
            "Hello, Worl\n",
            "!dlroW ,olleH\n"
          ]
        }
      ]
    },
    {
      "cell_type": "markdown",
      "source": [
        "\n",
        "\n",
        "---\n",
        "\n",
        "\n",
        "# **Part 2: Advanced Slicing**\n",
        "\n",
        "**1.Slicing Substrings:**\n",
        "\n",
        "**a.Given a string sentence = \"The quick brown fox jumps over the lazy dog\",\n",
        "slice and print the following:**\n",
        "\n",
        "i.The word \"quick\".\n",
        "\n",
        "ii.The word \"lazy\".\n",
        "\n",
        "iii.The words \"brown fox jumps\""
      ],
      "metadata": {
        "id": "tVzWx1zEtRDA"
      }
    },
    {
      "cell_type": "code",
      "source": [
        "string = \"The quick brown fox jumps over the lazy dog\"\n",
        "print(string[4:9])\n",
        "\n",
        "print(string[-8:-4])\n",
        "\n",
        "print(string[10:24])\n"
      ],
      "metadata": {
        "colab": {
          "base_uri": "https://localhost:8080/"
        },
        "id": "O_5Fr3nUtl_3",
        "outputId": "1aac8e22-cbad-4b4a-bded-c7096780db7d"
      },
      "execution_count": 6,
      "outputs": [
        {
          "output_type": "stream",
          "name": "stdout",
          "text": [
            "quick\n",
            "lazy\n",
            "brown fox jump\n"
          ]
        }
      ]
    },
    {
      "cell_type": "markdown",
      "source": [
        "\n",
        "\n",
        "---\n",
        "\n",
        "\n",
        "# **2.Step Slicing:**\n",
        "**a.Use step slicing to print the following from the string s:**\n",
        "\n",
        "i.Every third character.\n",
        "\n",
        "ii.Every third character starting from the second character.\n",
        "\n",
        "iii.The string reversed, stepping by 2."
      ],
      "metadata": {
        "id": "1T43h0cOutVl"
      }
    },
    {
      "cell_type": "code",
      "source": [
        "print(s)  #string s\n",
        "\n",
        "print(s[::3])\n",
        "\n",
        "print(s[1::3])\n",
        "\n",
        "print(s[::-2])"
      ],
      "metadata": {
        "colab": {
          "base_uri": "https://localhost:8080/"
        },
        "id": "sFxTtP1hu_Kz",
        "outputId": "c6a24480-1a91-4a56-bd42-d3f482cec67c"
      },
      "execution_count": 7,
      "outputs": [
        {
          "output_type": "stream",
          "name": "stdout",
          "text": [
            "Hello, World!\n",
            "Hl r!\n",
            "eoWl\n",
            "!lo olH\n"
          ]
        }
      ]
    },
    {
      "cell_type": "markdown",
      "source": [
        "\n",
        "\n",
        "---\n",
        "\n",
        "\n",
        "# **Part 3: Practical Application**\n",
        "\n",
        "# **1.Extracting Information:**\n",
        "**a.Given a string data = \"2024-09-01,Sunny,25°C\", extract and print the following:**\n",
        "\n",
        "i.The date.\n",
        "\n",
        "ii.The weather condition.\n",
        "\n",
        "iii.The temperature"
      ],
      "metadata": {
        "id": "tRIaGtWMvkch"
      }
    },
    {
      "cell_type": "code",
      "source": [
        "string_1 = \"2024-09-01,Sunny,25°C\"\n",
        "print(string_1[:10])\n",
        "\n",
        "print(string_1[11:16])\n",
        "\n",
        "print(string_1[17:])"
      ],
      "metadata": {
        "colab": {
          "base_uri": "https://localhost:8080/"
        },
        "id": "PZAswoPgv7RM",
        "outputId": "01075f2f-a29a-4ff0-d52f-db117a5858c2"
      },
      "execution_count": 8,
      "outputs": [
        {
          "output_type": "stream",
          "name": "stdout",
          "text": [
            "2024-09-01\n",
            "Sunny\n",
            "25°C\n"
          ]
        }
      ]
    },
    {
      "cell_type": "markdown",
      "source": [
        "\n",
        "\n",
        "---\n",
        "\n",
        "\n",
        "# **2.Reformatting Strings:**\n",
        "\n",
        "**i.Given a string phone_number = \"(123) 456-7890\", reformat it to ‘123-456-7890’**"
      ],
      "metadata": {
        "id": "mZSnqeVdwjhs"
      }
    },
    {
      "cell_type": "code",
      "source": [
        "phone_number = \"(123) 456-7890\"\n",
        "\n",
        "print(phone_number.replace(\"(\",\"\").replace(\")\",\"-\").replace(\" \",\"\"))"
      ],
      "metadata": {
        "colab": {
          "base_uri": "https://localhost:8080/"
        },
        "id": "mZOaMJgnxeLb",
        "outputId": "87e0e5fc-49dd-45b4-969a-810e9ab4442a"
      },
      "execution_count": 11,
      "outputs": [
        {
          "output_type": "stream",
          "name": "stdout",
          "text": [
            "123-456-7890\n"
          ]
        }
      ]
    },
    {
      "cell_type": "markdown",
      "source": [
        "\n",
        "\n",
        "---\n",
        "\n",
        "\n",
        "# **Part 4: Questions based on string methods**\n",
        "**1.Upper and Lower Case Conversion:**\n",
        "\n",
        "i.Given a string s = \"Hello, World!\", perform the following:\n",
        "\n",
        "b.Convert the string to all uppercase letters.\n",
        "\n",
        "c.Convert the string to all lowercase letters.\n",
        "\n",
        "d.Convert the string to title case.\n",
        "\n",
        "e.Capitalize the first letter of the string."
      ],
      "metadata": {
        "id": "AgkzwK2k1SPB"
      }
    },
    {
      "cell_type": "code",
      "source": [
        "s = \"Hello, World!\"\n",
        "print(s.upper())\n",
        "\n",
        "print(s.lower())\n",
        "\n",
        "print(s.title())\n",
        "\n",
        "print(s.capitalize())"
      ],
      "metadata": {
        "colab": {
          "base_uri": "https://localhost:8080/"
        },
        "id": "9FdeqoaV1cuz",
        "outputId": "f321e79e-fd85-4f0a-a0a7-136b1220e8b3"
      },
      "execution_count": 12,
      "outputs": [
        {
          "output_type": "stream",
          "name": "stdout",
          "text": [
            "HELLO, WORLD!\n",
            "hello, world!\n",
            "Hello, World!\n",
            "Hello, world!\n"
          ]
        }
      ]
    },
    {
      "cell_type": "markdown",
      "source": [
        "\n",
        "\n",
        "---\n",
        "\n",
        "\n",
        "**2.Finding Substrings:**\n",
        "\n",
        "**Given a string s = \"The quick brown fox jumps over the lazy dog\", perform the following:**\n",
        "\n",
        "a. Find the position of the substring \"fox\".\n",
        "\n",
        "b. Check if the substring \"cat\" is in the string."
      ],
      "metadata": {
        "id": "pGu40nmJ1xmk"
      }
    },
    {
      "cell_type": "code",
      "source": [
        "s = \"The quick brown fox jumps over the lazy dog\"\n",
        "print(s.find(\"fox\"))\n",
        "\n",
        "print(\"cat\" in s)"
      ],
      "metadata": {
        "colab": {
          "base_uri": "https://localhost:8080/"
        },
        "id": "_Z1usQrA14z6",
        "outputId": "933cfb37-5512-460c-ee45-a11ccc89ab14"
      },
      "execution_count": 13,
      "outputs": [
        {
          "output_type": "stream",
          "name": "stdout",
          "text": [
            "16\n",
            "False\n"
          ]
        }
      ]
    },
    {
      "cell_type": "markdown",
      "source": [
        "\n",
        "\n",
        "---\n",
        "\n",
        "\n",
        "# 3.Replacing Substrings:\n",
        "**Given a string s = \"The quick brown fox jumps over the lazy dog\", perform the following:**\n",
        "\n",
        "a.Replace \"fox\" with \"cat\".\n",
        "\n",
        "b.Replace all spaces with underscores.\n",
        "\n",
        "c.Split the string into a list of words.\n",
        "\n",
        "d.Split the string by the letter 'o'."
      ],
      "metadata": {
        "id": "PHtpLPBp24fE"
      }
    },
    {
      "cell_type": "code",
      "source": [
        "s = \"The quick brown fox jumps over the lazy dog\"\n",
        "print(s.replace(\"fox\",\"cat\"))\n",
        "\n",
        "print(s.replace(\" \",\"_\"))\n",
        "\n",
        "print(s.split())\n",
        "\n",
        "print(s.split(\"o\"))"
      ],
      "metadata": {
        "colab": {
          "base_uri": "https://localhost:8080/"
        },
        "id": "agIBjC233HNq",
        "outputId": "91c4c042-3df9-4451-f0c6-e81ee8b325e6"
      },
      "execution_count": 14,
      "outputs": [
        {
          "output_type": "stream",
          "name": "stdout",
          "text": [
            "The quick brown cat jumps over the lazy dog\n",
            "The_quick_brown_fox_jumps_over_the_lazy_dog\n",
            "['The', 'quick', 'brown', 'fox', 'jumps', 'over', 'the', 'lazy', 'dog']\n",
            "['The quick br', 'wn f', 'x jumps ', 'ver the lazy d', 'g']\n"
          ]
        }
      ]
    },
    {
      "cell_type": "markdown",
      "source": [
        "\n",
        "\n",
        "---\n",
        "\n",
        "\n",
        "# **4.Joining Strings:**\n",
        "**Given a list of words**\n",
        "\n",
        "words = [\"The\", \"quick\", \"brown\", \"fox\"],\n",
        "\n",
        "perform the following:\n",
        "\n",
        "a.Join the words with spaces.\n",
        "\n",
        "b.Join the words with hyphens"
      ],
      "metadata": {
        "id": "0NS4ilnB3iFG"
      }
    },
    {
      "cell_type": "code",
      "source": [
        "words = [\"The\", \"quick\", \"brown\", \"fox\"]\n",
        "\n",
        "print(\" \".join(words))\n",
        "\n",
        "print(\"-\".join(words))\n"
      ],
      "metadata": {
        "colab": {
          "base_uri": "https://localhost:8080/"
        },
        "id": "XnrsrJSS3rv6",
        "outputId": "98285c91-7230-4651-c9c2-cbf2a6eb48da"
      },
      "execution_count": 15,
      "outputs": [
        {
          "output_type": "stream",
          "name": "stdout",
          "text": [
            "The quick brown fox\n",
            "The-quick-brown-fox\n"
          ]
        }
      ]
    }
  ]
}