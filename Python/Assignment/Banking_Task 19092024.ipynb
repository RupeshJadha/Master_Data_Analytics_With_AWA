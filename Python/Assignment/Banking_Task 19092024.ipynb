{
 "cells": [
  {
   "cell_type": "code",
   "execution_count": 71,
   "metadata": {},
   "outputs": [
    {
     "name": "stdout",
     "output_type": "stream",
     "text": [
      "Total Balance is 30000.0\n",
      "plaese enter correct value\n"
     ]
    }
   ],
   "source": [
    "bal = float(30000)\n",
    "acc_type= input(\"enter your account type: savings or current\").lower() # Chose Account type and convert to lowercase\n",
    "\n",
    "\n",
    "if acc_type == \"savings\":\n",
    "    print(\"Total Balance is\",bal)\n",
    "        \n",
    "    cash_wdr = input(\"chose option : a) cash withdrawal b) Exit\").lower()  # Ask user to chose option for withdrawal or exit\n",
    "        \n",
    "    if cash_wdr == \"a\":\n",
    "        try:\n",
    "            amt_wdr = float(input(\"enter Ammount\"))    # How much amount user wants to withdraw\n",
    "            if  amt_wdr < 0 or amt_wdr > bal :\n",
    "                print(\"you have enter wrong amount\")\n",
    "            else:\n",
    "                bal >= amt_wdr           \n",
    "                pending_bal = bal - amt_wdr\n",
    "                print(\"ammount withdrawal:\",amt_wdr)\n",
    "                print(\"current balance\",pending_bal)\n",
    "        except ValueError:\n",
    "            print(\"plaese enter correct value\")\n",
    "    elif cash_wdr == \"b\":\n",
    "        print(\"Exiting...\")     # Response when user chooses exit\n",
    "    else:\n",
    "        print(\"Plase chose currect option\")    \n",
    "elif acc_type == \"current\":\n",
    "    print(\"Account dose not exist\")\n",
    "else:\n",
    "    print(\"enter currect account type\") \n",
    "        "
   ]
  },
  {
   "cell_type": "code",
   "execution_count": null,
   "metadata": {},
   "outputs": [],
   "source": []
  },
  {
   "cell_type": "code",
   "execution_count": null,
   "metadata": {},
   "outputs": [],
   "source": []
  }
 ],
 "metadata": {
  "kernelspec": {
   "display_name": "Python 3",
   "language": "python",
   "name": "python3"
  },
  "language_info": {
   "codemirror_mode": {
    "name": "ipython",
    "version": 3
   },
   "file_extension": ".py",
   "mimetype": "text/x-python",
   "name": "python",
   "nbconvert_exporter": "python",
   "pygments_lexer": "ipython3",
   "version": "3.12.5"
  }
 },
 "nbformat": 4,
 "nbformat_minor": 2
}
